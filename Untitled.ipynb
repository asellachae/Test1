{
 "cells": [
  {
   "cell_type": "code",
   "execution_count": null,
   "id": "bfe29f2e-7ac4-4df7-beb8-241875de26e0",
   "metadata": {},
   "outputs": [],
   "source": [
    "print(\"hellow world\")"
   ]
  },
  {
   "cell_type": "markdown",
   "id": "401fbc62-88b8-48fa-927e-c4a95fcf84b5",
   "metadata": {},
   "source": [
    "# hello world"
   ]
  },
  {
   "cell_type": "markdown",
   "id": "30846870-bad2-4946-8251-63e74475c69c",
   "metadata": {},
   "source": []
  }
 ],
 "metadata": {
  "kernelspec": {
   "display_name": "Python 3 (ipykernel)",
   "language": "python",
   "name": "python3"
  },
  "language_info": {
   "codemirror_mode": {
    "name": "ipython",
    "version": 3
   },
   "file_extension": ".py",
   "mimetype": "text/x-python",
   "name": "python",
   "nbconvert_exporter": "python",
   "pygments_lexer": "ipython3",
   "version": "3.12.9"
  }
 },
 "nbformat": 4,
 "nbformat_minor": 5
}
